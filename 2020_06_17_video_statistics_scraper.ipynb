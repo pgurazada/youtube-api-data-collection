{
  "nbformat": 4,
  "nbformat_minor": 0,
  "metadata": {
    "colab": {
      "name": "2020-06-17_video-statistics-scraper.ipynb",
      "provenance": [],
      "collapsed_sections": [],
      "mount_file_id": "1EkwSt3XSUZqm_JzjJ4ueSvv5p1KjKFM_",
      "authorship_tag": "ABX9TyN/MOE7VC/N3a23OIsOOuXa",
      "include_colab_link": true
    },
    "kernelspec": {
      "name": "python3",
      "display_name": "Python 3"
    },
    "language_info": {
      "name": "python"
    }
  },
  "cells": [
    {
      "cell_type": "markdown",
      "metadata": {
        "id": "view-in-github",
        "colab_type": "text"
      },
      "source": [
        "<a href=\"https://colab.research.google.com/github/pgurazada/youtube-api-data-collection/blob/main/2020_06_17_video_statistics_scraper.ipynb\" target=\"_parent\"><img src=\"https://colab.research.google.com/assets/colab-badge.svg\" alt=\"Open In Colab\"/></a>"
      ]
    },
    {
      "cell_type": "code",
      "metadata": {
        "id": "6o8SfDwrY9XY"
      },
      "source": [
        "import os\n",
        "\n",
        "import googleapiclient.discovery\n",
        "\n",
        "import pandas as pd\n",
        "\n",
        "from tqdm import tqdm"
      ],
      "execution_count": 1,
      "outputs": []
    },
    {
      "cell_type": "code",
      "metadata": {
        "id": "xXA0c1blZFP6"
      },
      "source": [
        "os.environ[\"OAUTHLIB_INSECURE_TRANSPORT\"] = \"1\"\n",
        "\n",
        "api_service_name = \"youtube\"\n",
        "api_version = \"v3\"\n",
        "DEVELOPER_KEY = \"\""
      ],
      "execution_count": 2,
      "outputs": []
    },
    {
      "cell_type": "code",
      "metadata": {
        "id": "HW61VFEAtmxO"
      },
      "source": [
        "video_input_file = \"/path/to/input/data.csv\"\n",
        "\n",
        "output_file = \"/path/to/output_file.csv\""
      ],
      "execution_count": 5,
      "outputs": []
    },
    {
      "cell_type": "code",
      "metadata": {
        "id": "Jqyit6ERuNEc"
      },
      "source": [
        "videos_metadata = pd.read_csv(video_input_file)"
      ],
      "execution_count": 6,
      "outputs": []
    },
    {
      "cell_type": "code",
      "metadata": {
        "id": "igzmSLwPuUax"
      },
      "source": [
        "video_ids = videos_metadata.video_id"
      ],
      "execution_count": null,
      "outputs": []
    },
    {
      "cell_type": "code",
      "metadata": {
        "id": "J0KDnjFjZIrV"
      },
      "source": [
        "youtube = googleapiclient.discovery.build(api_service_name, \n",
        "                                          api_version, \n",
        "                                          developerKey = DEVELOPER_KEY)"
      ],
      "execution_count": 9,
      "outputs": []
    },
    {
      "cell_type": "code",
      "metadata": {
        "id": "rinoJ6dpIeKo"
      },
      "source": [
        "video_statistics = []"
      ],
      "execution_count": null,
      "outputs": []
    },
    {
      "cell_type": "code",
      "metadata": {
        "id": "M0Ah3yVyu2a6"
      },
      "source": [
        "for video_id in tqdm(video_ids):\n",
        "\n",
        "  try:\n",
        "  \n",
        "    request = (youtube.videos()\n",
        "                      .list(part=[\"statistics\"],\n",
        "                            videoId=video_id))\n",
        "    \n",
        "    response = request.execute()\n",
        "    \n",
        "    video_statistics.append(pd.json_normalize(response, \n",
        "                                              record_path='items'))\n",
        "\n",
        "  except Exception:\n",
        "    continue"
      ],
      "execution_count": null,
      "outputs": []
    },
    {
      "cell_type": "code",
      "metadata": {
        "id": "7V5JIjmcOilJ"
      },
      "source": [
        "(pd.concat(video_statistics)\n",
        "   .to_csv(output_file, index=False))"
      ],
      "execution_count": null,
      "outputs": []
    }
  ]
}