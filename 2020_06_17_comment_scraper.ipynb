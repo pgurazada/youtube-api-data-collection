{
  "nbformat": 4,
  "nbformat_minor": 0,
  "metadata": {
    "colab": {
      "name": "2020-06-17_comment-scraper.ipynb",
      "provenance": [],
      "collapsed_sections": []
    },
    "kernelspec": {
      "name": "python3",
      "display_name": "Python 3"
    },
    "language_info": {
      "name": "python"
    }
  },
  "cells": [
    {
      "cell_type": "markdown",
      "metadata": {
        "id": "bjXRX3QzkqYP"
      },
      "source": [
        "# Objective\n",
        "\n",
        "To illustrate collection of comments posted against a list of videos on YouTube"
      ]
    },
    {
      "cell_type": "markdown",
      "metadata": {
        "id": "ENjUgZwikwbR"
      },
      "source": [
        "## Preliminaries"
      ]
    },
    {
      "cell_type": "code",
      "metadata": {
        "id": "6o8SfDwrY9XY"
      },
      "source": [
        "import os\n",
        "\n",
        "import googleapiclient.discovery\n",
        "\n",
        "import pandas as pd\n",
        "\n",
        "from tqdm import tqdm"
      ],
      "execution_count": null,
      "outputs": []
    },
    {
      "cell_type": "code",
      "metadata": {
        "id": "xXA0c1blZFP6"
      },
      "source": [
        "os.environ[\"OAUTHLIB_INSECURE_TRANSPORT\"] = \"1\"\n",
        "\n",
        "api_service_name = \"youtube\"\n",
        "api_version = \"v3\"\n",
        "DEVELOPER_KEY = \"\""
      ],
      "execution_count": null,
      "outputs": []
    },
    {
      "cell_type": "markdown",
      "metadata": {
        "id": "s1Xg99hUkXvE"
      },
      "source": [
        "The video input file should have a column `video_id` that hosts the id's of the videos you want to collect comments from."
      ]
    },
    {
      "cell_type": "markdown",
      "metadata": {
        "id": "Luc7DjUxkyNj"
      },
      "source": [
        "# Input"
      ]
    },
    {
      "cell_type": "code",
      "metadata": {
        "id": "HW61VFEAtmxO"
      },
      "source": [
        "video_input_file = \"/path/to/your/inputvideoslist.csv\"\n",
        "\n",
        "output_path = \"/path/to/your/output/folder\""
      ],
      "execution_count": null,
      "outputs": []
    },
    {
      "cell_type": "code",
      "metadata": {
        "id": "Jqyit6ERuNEc"
      },
      "source": [
        "videos_metadata = pd.read_csv(video_input_file)"
      ],
      "execution_count": null,
      "outputs": []
    },
    {
      "cell_type": "code",
      "metadata": {
        "id": "igzmSLwPuUax"
      },
      "source": [
        "video_ids = videos_metadata.video_id"
      ],
      "execution_count": null,
      "outputs": []
    },
    {
      "cell_type": "markdown",
      "metadata": {
        "id": "lEpSbSXbkohL"
      },
      "source": [
        "# Using the API"
      ]
    },
    {
      "cell_type": "code",
      "metadata": {
        "id": "J0KDnjFjZIrV"
      },
      "source": [
        "youtube = googleapiclient.discovery.build(api_service_name, \n",
        "                                          api_version, \n",
        "                                          developerKey = DEVELOPER_KEY)"
      ],
      "execution_count": null,
      "outputs": []
    },
    {
      "cell_type": "code",
      "metadata": {
        "colab": {
          "base_uri": "https://localhost:8080/"
        },
        "id": "M0Ah3yVyu2a6",
        "outputId": "27051a26-4e47-46c0-b544-4520b3405741"
      },
      "source": [
        "for video_id in tqdm(video_ids):\n",
        "\n",
        "  print(\"Collecting comments for:\", video_id, \"\\n\")\n",
        "  \n",
        "  video_comments = []\n",
        "\n",
        "  try:\n",
        "  \n",
        "    request = (youtube.commentThreads()\n",
        "                      .list(part=[\"snippet\", \"replies\"],\n",
        "                            maxResults=100,\n",
        "                            videoId=video_id))\n",
        "    \n",
        "    response = request.execute()\n",
        "    \n",
        "    video_comments.append(pd.json_normalize(response, \n",
        "                                            record_path=['items']))\n",
        "\n",
        "    npt = response[\"nextPageToken\"]\n",
        "\n",
        "    while npt:\n",
        "      request = (youtube.commentThreads()\n",
        "                        .list(part=[\"snippet\",\"replies\"],\n",
        "                              pageToken=npt,\n",
        "                              maxResults=100,\n",
        "                              videoId=video_id))\n",
        "      response = request.execute()\n",
        "      \n",
        "      video_comments.append(pd.json_normalize(response, \n",
        "                                              record_path=['items']))\n",
        "      \n",
        "      try:\n",
        "        npt = response[\"nextPageToken\"]\n",
        "      except KeyError:\n",
        "        npt = False\n",
        "\n",
        "    (pd.concat(video_comments)\n",
        "        .to_csv(output_path + video_id + \".csv\", index=False))\n",
        "\n",
        "    time.sleep(10)\n",
        "\n",
        "  except Exception:\n",
        "    continue"
      ],
      "execution_count": null,
      "outputs": [
        {
          "output_type": "stream",
          "text": [
            "\r  0%|          | 0/100 [00:00<?, ?it/s]"
          ],
          "name": "stderr"
        },
        {
          "output_type": "stream",
          "text": [
            "Collecting comments for: TLa39gi_RlE \n",
            "\n",
            "Collecting comments for: M0ImB9fImtc \n",
            "\n"
          ],
          "name": "stdout"
        },
        {
          "output_type": "stream",
          "text": [
            "\r  2%|▏         | 2/100 [03:37<2:57:17, 108.54s/it]"
          ],
          "name": "stderr"
        },
        {
          "output_type": "stream",
          "text": [
            "Collecting comments for: vWOArk5quME \n",
            "\n"
          ],
          "name": "stdout"
        },
        {
          "output_type": "stream",
          "text": [
            "\r  3%|▎         | 3/100 [04:36<2:31:52, 93.94s/it] "
          ],
          "name": "stderr"
        },
        {
          "output_type": "stream",
          "text": [
            "Collecting comments for: 1h56Q8eVOyI \n",
            "\n"
          ],
          "name": "stdout"
        },
        {
          "output_type": "stream",
          "text": [
            "\r  4%|▍         | 4/100 [05:26<2:08:55, 80.58s/it]"
          ],
          "name": "stderr"
        },
        {
          "output_type": "stream",
          "text": [
            "Collecting comments for: ZF8wPzXrjmI \n",
            "\n"
          ],
          "name": "stdout"
        },
        {
          "output_type": "stream",
          "text": [
            "\r  5%|▌         | 5/100 [12:09<4:40:39, 177.26s/it]"
          ],
          "name": "stderr"
        },
        {
          "output_type": "stream",
          "text": [
            "Collecting comments for: mGD1RBhtJNg \n",
            "\n"
          ],
          "name": "stdout"
        },
        {
          "output_type": "stream",
          "text": [
            "\r  6%|▌         | 6/100 [13:18<3:47:11, 145.02s/it]"
          ],
          "name": "stderr"
        },
        {
          "output_type": "stream",
          "text": [
            "Collecting comments for: OoY7zp8GkLI \n",
            "\n"
          ],
          "name": "stdout"
        },
        {
          "output_type": "stream",
          "text": [
            "\r  7%|▋         | 7/100 [13:53<2:53:26, 111.90s/it]"
          ],
          "name": "stderr"
        },
        {
          "output_type": "stream",
          "text": [
            "Collecting comments for: pk7kyQrH8DU \n",
            "\n",
            "Collecting comments for: 1zc7DZxNUsc \n",
            "\n"
          ],
          "name": "stdout"
        },
        {
          "output_type": "stream",
          "text": [
            "\r  9%|▉         | 9/100 [14:18<2:04:20, 81.99s/it] "
          ],
          "name": "stderr"
        },
        {
          "output_type": "stream",
          "text": [
            "Collecting comments for: JsvgI1q1Vhk \n",
            "\n"
          ],
          "name": "stdout"
        },
        {
          "output_type": "stream",
          "text": [
            "\r 10%|█         | 10/100 [14:18<1:26:22, 57.59s/it]"
          ],
          "name": "stderr"
        },
        {
          "output_type": "stream",
          "text": [
            "Collecting comments for: NPza3LU_Gfg \n",
            "\n"
          ],
          "name": "stdout"
        },
        {
          "output_type": "stream",
          "text": [
            "\r 11%|█         | 11/100 [15:05<1:20:40, 54.39s/it]"
          ],
          "name": "stderr"
        },
        {
          "output_type": "stream",
          "text": [
            "Collecting comments for: ytCGXB9H-cI \n",
            "\n",
            "Collecting comments for: 8bzg62jQ4Hw \n",
            "\n"
          ],
          "name": "stdout"
        },
        {
          "output_type": "stream",
          "text": [
            "\r 13%|█▎        | 13/100 [15:33<1:01:20, 42.31s/it]"
          ],
          "name": "stderr"
        },
        {
          "output_type": "stream",
          "text": [
            "Collecting comments for: gUE7bc01W_g \n",
            "\n"
          ],
          "name": "stdout"
        },
        {
          "output_type": "stream",
          "text": [
            "\r 14%|█▍        | 14/100 [15:48<48:44, 34.01s/it]  "
          ],
          "name": "stderr"
        },
        {
          "output_type": "stream",
          "text": [
            "Collecting comments for: vmuGMXIdu7E \n",
            "\n",
            "Collecting comments for: slMfX6FPpQo \n",
            "\n"
          ],
          "name": "stdout"
        },
        {
          "output_type": "stream",
          "text": [
            "\r 16%|█▌        | 16/100 [15:59<35:41, 25.49s/it]"
          ],
          "name": "stderr"
        },
        {
          "output_type": "stream",
          "text": [
            "Collecting comments for: dGgvg4XEYrw \n",
            "\n"
          ],
          "name": "stdout"
        },
        {
          "output_type": "stream",
          "text": [
            "\r 17%|█▋        | 17/100 [16:12<30:10, 21.81s/it]"
          ],
          "name": "stderr"
        },
        {
          "output_type": "stream",
          "text": [
            "Collecting comments for: YmiZJX2EiHI \n",
            "\n"
          ],
          "name": "stdout"
        },
        {
          "output_type": "stream",
          "text": [
            "\r 18%|█▊        | 18/100 [17:14<45:57, 33.63s/it]"
          ],
          "name": "stderr"
        },
        {
          "output_type": "stream",
          "text": [
            "Collecting comments for: gmUnl-4VUnk \n",
            "\n"
          ],
          "name": "stdout"
        },
        {
          "output_type": "stream",
          "text": [
            "\r 19%|█▉        | 19/100 [17:36<40:47, 30.21s/it]"
          ],
          "name": "stderr"
        },
        {
          "output_type": "stream",
          "text": [
            "Collecting comments for: Cjdmc3JKgq4 \n",
            "\n"
          ],
          "name": "stdout"
        },
        {
          "output_type": "stream",
          "text": [
            "\r 20%|██        | 20/100 [17:58<37:11, 27.90s/it]"
          ],
          "name": "stderr"
        },
        {
          "output_type": "stream",
          "text": [
            "Collecting comments for: toi3m2VOc9w \n",
            "\n"
          ],
          "name": "stdout"
        },
        {
          "output_type": "stream",
          "text": [
            "\r 21%|██        | 21/100 [23:41<2:41:07, 122.37s/it]"
          ],
          "name": "stderr"
        },
        {
          "output_type": "stream",
          "text": [
            "Collecting comments for: dvUgEqoPuvY \n",
            "\n"
          ],
          "name": "stdout"
        },
        {
          "output_type": "stream",
          "text": [
            "\r 22%|██▏       | 22/100 [23:54<1:56:21, 89.51s/it] "
          ],
          "name": "stderr"
        },
        {
          "output_type": "stream",
          "text": [
            "Collecting comments for: EzIAXmVM4Z0 \n",
            "\n"
          ],
          "name": "stdout"
        },
        {
          "output_type": "stream",
          "text": [
            "\r 23%|██▎       | 23/100 [24:09<1:26:16, 67.22s/it]"
          ],
          "name": "stderr"
        },
        {
          "output_type": "stream",
          "text": [
            "Collecting comments for: lYC5b6oRd0Y \n",
            "\n"
          ],
          "name": "stdout"
        },
        {
          "output_type": "stream",
          "text": [
            "\r 24%|██▍       | 24/100 [24:17<1:02:42, 49.51s/it]"
          ],
          "name": "stderr"
        },
        {
          "output_type": "stream",
          "text": [
            "Collecting comments for: BZ5fdNNHVu0 \n",
            "\n"
          ],
          "name": "stdout"
        },
        {
          "output_type": "stream",
          "text": [
            "\r 25%|██▌       | 25/100 [24:31<48:21, 38.69s/it]  "
          ],
          "name": "stderr"
        },
        {
          "output_type": "stream",
          "text": [
            "Collecting comments for: tTKYJUxJXk4 \n",
            "\n"
          ],
          "name": "stdout"
        },
        {
          "output_type": "stream",
          "text": [
            "\r 26%|██▌       | 26/100 [24:36<35:21, 28.67s/it]"
          ],
          "name": "stderr"
        },
        {
          "output_type": "stream",
          "text": [
            "Collecting comments for: hWkhopgwsfI \n",
            "\n"
          ],
          "name": "stdout"
        },
        {
          "output_type": "stream",
          "text": [
            "\r 27%|██▋       | 27/100 [24:46<28:10, 23.15s/it]"
          ],
          "name": "stderr"
        },
        {
          "output_type": "stream",
          "text": [
            "Collecting comments for: EgCY4QireWY \n",
            "\n"
          ],
          "name": "stdout"
        },
        {
          "output_type": "stream",
          "text": [
            "\r 28%|██▊       | 28/100 [25:00<24:24, 20.34s/it]"
          ],
          "name": "stderr"
        },
        {
          "output_type": "stream",
          "text": [
            "Collecting comments for: izSRbqkh8IA \n",
            "\n"
          ],
          "name": "stdout"
        },
        {
          "output_type": "stream",
          "text": [
            "\r 29%|██▉       | 29/100 [25:34<28:51, 24.39s/it]"
          ],
          "name": "stderr"
        },
        {
          "output_type": "stream",
          "text": [
            "Collecting comments for: MQ8nisM57es \n",
            "\n",
            "Collecting comments for: Rr9RvTHNmPY \n",
            "\n"
          ],
          "name": "stdout"
        },
        {
          "output_type": "stream",
          "text": [
            "\r 31%|███       | 31/100 [25:44<21:21, 18.57s/it]"
          ],
          "name": "stderr"
        },
        {
          "output_type": "stream",
          "text": [
            "Collecting comments for: OwRgVilZI0Y \n",
            "\n",
            "Collecting comments for: hsFREaTMdUU \n",
            "\n"
          ],
          "name": "stdout"
        },
        {
          "output_type": "stream",
          "text": [
            " 35%|███▌      | 35/100 [25:50<10:35,  9.78s/it]"
          ],
          "name": "stderr"
        },
        {
          "output_type": "stream",
          "text": [
            "Collecting comments for: Ray9j9K7T-A \n",
            "\n",
            "Collecting comments for: 0kxXjOAa3X0 \n",
            "\n",
            "Collecting comments for: YF1sBlYZghg \n",
            "\n"
          ],
          "name": "stdout"
        },
        {
          "output_type": "stream",
          "text": [
            "\r 36%|███▌      | 36/100 [26:01<10:46, 10.10s/it]"
          ],
          "name": "stderr"
        },
        {
          "output_type": "stream",
          "text": [
            "Collecting comments for: meByYOjfPFw \n",
            "\n"
          ],
          "name": "stdout"
        },
        {
          "output_type": "stream",
          "text": [
            "\r 37%|███▋      | 37/100 [26:10<10:12,  9.71s/it]"
          ],
          "name": "stderr"
        },
        {
          "output_type": "stream",
          "text": [
            "Collecting comments for: mnURF9JVtEk \n",
            "\n"
          ],
          "name": "stdout"
        },
        {
          "output_type": "stream",
          "text": [
            "\r 38%|███▊      | 38/100 [26:22<10:51, 10.51s/it]"
          ],
          "name": "stderr"
        },
        {
          "output_type": "stream",
          "text": [
            "Collecting comments for: e-JeXvP7VzU \n",
            "\n"
          ],
          "name": "stdout"
        },
        {
          "output_type": "stream",
          "text": [
            "\r 39%|███▉      | 39/100 [26:42<13:35, 13.37s/it]"
          ],
          "name": "stderr"
        },
        {
          "output_type": "stream",
          "text": [
            "Collecting comments for: ojjW0untO8o \n",
            "\n"
          ],
          "name": "stdout"
        },
        {
          "output_type": "stream",
          "text": [
            "\r 40%|████      | 40/100 [26:55<13:05, 13.09s/it]"
          ],
          "name": "stderr"
        },
        {
          "output_type": "stream",
          "text": [
            "Collecting comments for: u1QpxO6fT8w \n",
            "\n"
          ],
          "name": "stdout"
        },
        {
          "output_type": "stream",
          "text": [
            "\r 41%|████      | 41/100 [27:11<13:52, 14.11s/it]"
          ],
          "name": "stderr"
        },
        {
          "output_type": "stream",
          "text": [
            "Collecting comments for: g2LtQhY2ynI \n",
            "\n"
          ],
          "name": "stdout"
        },
        {
          "output_type": "stream",
          "text": [
            "\r 42%|████▏     | 42/100 [27:15<10:38, 11.02s/it]"
          ],
          "name": "stderr"
        },
        {
          "output_type": "stream",
          "text": [
            "Collecting comments for: XlRqE6iSbqQ \n",
            "\n"
          ],
          "name": "stdout"
        },
        {
          "output_type": "stream",
          "text": [
            "\r 43%|████▎     | 43/100 [27:19<08:27,  8.91s/it]"
          ],
          "name": "stderr"
        },
        {
          "output_type": "stream",
          "text": [
            "Collecting comments for: po_52OYBc-o \n",
            "\n"
          ],
          "name": "stdout"
        },
        {
          "output_type": "stream",
          "text": [
            "\r 44%|████▍     | 44/100 [27:24<07:04,  7.58s/it]"
          ],
          "name": "stderr"
        },
        {
          "output_type": "stream",
          "text": [
            "Collecting comments for: N0DVkulhlkE \n",
            "\n"
          ],
          "name": "stdout"
        },
        {
          "output_type": "stream",
          "text": [
            "\r 45%|████▌     | 45/100 [29:16<35:40, 38.92s/it]"
          ],
          "name": "stderr"
        },
        {
          "output_type": "stream",
          "text": [
            "Collecting comments for: 2INhPaOfbjc \n",
            "\n"
          ],
          "name": "stdout"
        },
        {
          "output_type": "stream",
          "text": [
            "\r 46%|████▌     | 46/100 [29:26<27:14, 30.27s/it]"
          ],
          "name": "stderr"
        },
        {
          "output_type": "stream",
          "text": [
            "Collecting comments for: 72A3PF9vpP4 \n",
            "\n"
          ],
          "name": "stdout"
        },
        {
          "output_type": "stream",
          "text": [
            "\r 47%|████▋     | 47/100 [29:30<19:52, 22.51s/it]"
          ],
          "name": "stderr"
        },
        {
          "output_type": "stream",
          "text": [
            "Collecting comments for: vToqHkQUsxg \n",
            "\n",
            "Collecting comments for: BwBuF99Lg60 \n",
            "\n"
          ],
          "name": "stdout"
        },
        {
          "output_type": "stream",
          "text": [
            "\r 49%|████▉     | 49/100 [29:38<14:21, 16.90s/it]"
          ],
          "name": "stderr"
        },
        {
          "output_type": "stream",
          "text": [
            "Collecting comments for: 8RIxgAgmfpk \n",
            "\n"
          ],
          "name": "stdout"
        },
        {
          "output_type": "stream",
          "text": [
            "\r 50%|█████     | 50/100 [29:46<12:00, 14.40s/it]"
          ],
          "name": "stderr"
        },
        {
          "output_type": "stream",
          "text": [
            "Collecting comments for: AmtWqpdETgU \n",
            "\n"
          ],
          "name": "stdout"
        },
        {
          "output_type": "stream",
          "text": [
            "\r 51%|█████     | 51/100 [29:57<10:44, 13.16s/it]"
          ],
          "name": "stderr"
        },
        {
          "output_type": "stream",
          "text": [
            "Collecting comments for: UOdDurlz_MY \n",
            "\n"
          ],
          "name": "stdout"
        },
        {
          "output_type": "stream",
          "text": [
            "\r 52%|█████▏    | 52/100 [30:03<08:56, 11.18s/it]"
          ],
          "name": "stderr"
        },
        {
          "output_type": "stream",
          "text": [
            "Collecting comments for: ASjarE5k9sI \n",
            "\n"
          ],
          "name": "stdout"
        },
        {
          "output_type": "stream",
          "text": [
            "\r 53%|█████▎    | 53/100 [30:09<07:25,  9.47s/it]"
          ],
          "name": "stderr"
        },
        {
          "output_type": "stream",
          "text": [
            "Collecting comments for: IgYcs40Frlk \n",
            "\n"
          ],
          "name": "stdout"
        },
        {
          "output_type": "stream",
          "text": [
            "\r 54%|█████▍    | 54/100 [30:14<06:11,  8.07s/it]"
          ],
          "name": "stderr"
        },
        {
          "output_type": "stream",
          "text": [
            "Collecting comments for: GzXiDhd6loM \n",
            "\n"
          ],
          "name": "stdout"
        },
        {
          "output_type": "stream",
          "text": [
            "\r 55%|█████▌    | 55/100 [30:26<07:03,  9.41s/it]"
          ],
          "name": "stderr"
        },
        {
          "output_type": "stream",
          "text": [
            "Collecting comments for: Gzj_rwg4wdQ \n",
            "\n"
          ],
          "name": "stdout"
        },
        {
          "output_type": "stream",
          "text": [
            "\r 56%|█████▌    | 56/100 [30:44<08:48, 12.00s/it]"
          ],
          "name": "stderr"
        },
        {
          "output_type": "stream",
          "text": [
            "Collecting comments for: Js68kQOxjCs \n",
            "\n"
          ],
          "name": "stdout"
        },
        {
          "output_type": "stream",
          "text": [
            " 59%|█████▉    | 59/100 [30:53<05:13,  7.64s/it]"
          ],
          "name": "stderr"
        },
        {
          "output_type": "stream",
          "text": [
            "Collecting comments for: 94VRQ5tsBA8 \n",
            "\n",
            "Collecting comments for: iPjzd6mMQ-M \n",
            "\n",
            "Collecting comments for: C96h_Y8w484 \n",
            "\n"
          ],
          "name": "stdout"
        },
        {
          "output_type": "stream",
          "text": [
            "\r 60%|██████    | 60/100 [31:03<05:40,  8.52s/it]"
          ],
          "name": "stderr"
        },
        {
          "output_type": "stream",
          "text": [
            "Collecting comments for: yWTFyjGsiio \n",
            "\n"
          ],
          "name": "stdout"
        },
        {
          "output_type": "stream",
          "text": [
            "\r 61%|██████    | 61/100 [31:09<04:59,  7.67s/it]"
          ],
          "name": "stderr"
        },
        {
          "output_type": "stream",
          "text": [
            "Collecting comments for: 2APhUUz2z5I \n",
            "\n"
          ],
          "name": "stdout"
        },
        {
          "output_type": "stream",
          "text": [
            "\r 62%|██████▏   | 62/100 [31:16<04:47,  7.58s/it]"
          ],
          "name": "stderr"
        },
        {
          "output_type": "stream",
          "text": [
            "Collecting comments for: ZIcwZplRWFQ \n",
            "\n"
          ],
          "name": "stdout"
        },
        {
          "output_type": "stream",
          "text": [
            "\r 63%|██████▎   | 63/100 [31:37<07:08, 11.58s/it]"
          ],
          "name": "stderr"
        },
        {
          "output_type": "stream",
          "text": [
            "Collecting comments for: iX-Jaq8of_o \n",
            "\n"
          ],
          "name": "stdout"
        },
        {
          "output_type": "stream",
          "text": [
            "\r 64%|██████▍   | 64/100 [31:40<05:28,  9.13s/it]"
          ],
          "name": "stderr"
        },
        {
          "output_type": "stream",
          "text": [
            "Collecting comments for: J-vyyZ0FeWo \n",
            "\n"
          ],
          "name": "stdout"
        },
        {
          "output_type": "stream",
          "text": [
            "\r 65%|██████▌   | 65/100 [31:42<04:03,  6.96s/it]"
          ],
          "name": "stderr"
        },
        {
          "output_type": "stream",
          "text": [
            "Collecting comments for: Uk2qF3fA6wE \n",
            "\n"
          ],
          "name": "stdout"
        },
        {
          "output_type": "stream",
          "text": [
            "\r 66%|██████▌   | 66/100 [31:49<03:55,  6.91s/it]"
          ],
          "name": "stderr"
        },
        {
          "output_type": "stream",
          "text": [
            "Collecting comments for: UNpT-XO4K0I \n",
            "\n"
          ],
          "name": "stdout"
        },
        {
          "output_type": "stream",
          "text": [
            "\r 67%|██████▋   | 67/100 [31:53<03:15,  5.91s/it]"
          ],
          "name": "stderr"
        },
        {
          "output_type": "stream",
          "text": [
            "Collecting comments for: DQxoSGqu2Kg \n",
            "\n",
            "Collecting comments for: c_gcacvBqL8 \n",
            "\n"
          ],
          "name": "stdout"
        },
        {
          "output_type": "stream",
          "text": [
            "\r 69%|██████▉   | 69/100 [31:59<02:35,  5.02s/it]"
          ],
          "name": "stderr"
        },
        {
          "output_type": "stream",
          "text": [
            "Collecting comments for: ZqLZS8Ax0Gc \n",
            "\n"
          ],
          "name": "stdout"
        },
        {
          "output_type": "stream",
          "text": [
            "\r 70%|███████   | 70/100 [32:02<02:12,  4.43s/it]"
          ],
          "name": "stderr"
        },
        {
          "output_type": "stream",
          "text": [
            "Collecting comments for: OhnnH7-68tk \n",
            "\n"
          ],
          "name": "stdout"
        },
        {
          "output_type": "stream",
          "text": [
            "\r 71%|███████   | 71/100 [32:09<02:32,  5.27s/it]"
          ],
          "name": "stderr"
        },
        {
          "output_type": "stream",
          "text": [
            "Collecting comments for: 8FKVXnWrD2Y \n",
            "\n"
          ],
          "name": "stdout"
        },
        {
          "output_type": "stream",
          "text": [
            "\r 72%|███████▏  | 72/100 [32:16<02:39,  5.68s/it]"
          ],
          "name": "stderr"
        },
        {
          "output_type": "stream",
          "text": [
            "Collecting comments for: 092ojgKmQk8 \n",
            "\n"
          ],
          "name": "stdout"
        },
        {
          "output_type": "stream",
          "text": [
            "\r 73%|███████▎  | 73/100 [32:20<02:23,  5.31s/it]"
          ],
          "name": "stderr"
        },
        {
          "output_type": "stream",
          "text": [
            "Collecting comments for: c-qpMDYaLS8 \n",
            "\n"
          ],
          "name": "stdout"
        },
        {
          "output_type": "stream",
          "text": [
            "\r 74%|███████▍  | 74/100 [32:27<02:29,  5.76s/it]"
          ],
          "name": "stderr"
        },
        {
          "output_type": "stream",
          "text": [
            "Collecting comments for: cyXsjH5sG1U \n",
            "\n"
          ],
          "name": "stdout"
        },
        {
          "output_type": "stream",
          "text": [
            "\r 75%|███████▌  | 75/100 [32:32<02:20,  5.62s/it]"
          ],
          "name": "stderr"
        },
        {
          "output_type": "stream",
          "text": [
            "Collecting comments for: qj4i8thLVJo \n",
            "\n"
          ],
          "name": "stdout"
        },
        {
          "output_type": "stream",
          "text": [
            "\r 76%|███████▌  | 76/100 [32:43<02:55,  7.31s/it]"
          ],
          "name": "stderr"
        },
        {
          "output_type": "stream",
          "text": [
            "Collecting comments for: R7HgaYlFYeU \n",
            "\n"
          ],
          "name": "stdout"
        },
        {
          "output_type": "stream",
          "text": [
            "\r 77%|███████▋  | 77/100 [32:48<02:31,  6.59s/it]"
          ],
          "name": "stderr"
        },
        {
          "output_type": "stream",
          "text": [
            "Collecting comments for: c0Orf-ZYdOQ \n",
            "\n"
          ],
          "name": "stdout"
        },
        {
          "output_type": "stream",
          "text": [
            "\r 78%|███████▊  | 78/100 [32:52<02:03,  5.63s/it]"
          ],
          "name": "stderr"
        },
        {
          "output_type": "stream",
          "text": [
            "Collecting comments for: rcWrpXEbOjk \n",
            "\n"
          ],
          "name": "stdout"
        },
        {
          "output_type": "stream",
          "text": [
            "\r 79%|███████▉  | 79/100 [32:56<01:47,  5.13s/it]"
          ],
          "name": "stderr"
        },
        {
          "output_type": "stream",
          "text": [
            "Collecting comments for: _pQsabfdrM0 \n",
            "\n"
          ],
          "name": "stdout"
        },
        {
          "output_type": "stream",
          "text": [
            "\r 80%|████████  | 80/100 [33:01<01:45,  5.29s/it]"
          ],
          "name": "stderr"
        },
        {
          "output_type": "stream",
          "text": [
            "Collecting comments for: ENnNEgD4gyM \n",
            "\n"
          ],
          "name": "stdout"
        },
        {
          "output_type": "stream",
          "text": [
            "\r 81%|████████  | 81/100 [33:04<01:28,  4.64s/it]"
          ],
          "name": "stderr"
        },
        {
          "output_type": "stream",
          "text": [
            "Collecting comments for: CtILvOMrXME \n",
            "\n"
          ],
          "name": "stdout"
        },
        {
          "output_type": "stream",
          "text": [
            "\r 82%|████████▏ | 82/100 [33:08<01:15,  4.22s/it]"
          ],
          "name": "stderr"
        },
        {
          "output_type": "stream",
          "text": [
            "Collecting comments for: 1PPB7kjGEYU \n",
            "\n"
          ],
          "name": "stdout"
        },
        {
          "output_type": "stream",
          "text": [
            "\r 83%|████████▎ | 83/100 [33:15<01:29,  5.24s/it]"
          ],
          "name": "stderr"
        },
        {
          "output_type": "stream",
          "text": [
            "Collecting comments for: Zmm9KKUfA8I \n",
            "\n",
            "Collecting comments for: savBW1zqgAU \n",
            "\n"
          ],
          "name": "stdout"
        },
        {
          "output_type": "stream",
          "text": [
            "\r 85%|████████▌ | 85/100 [33:18<01:02,  4.14s/it]"
          ],
          "name": "stderr"
        },
        {
          "output_type": "stream",
          "text": [
            "Collecting comments for: Un7HBquqawY \n",
            "\n"
          ],
          "name": "stdout"
        },
        {
          "output_type": "stream",
          "text": [
            "\r 86%|████████▌ | 86/100 [33:21<00:50,  3.63s/it]"
          ],
          "name": "stderr"
        },
        {
          "output_type": "stream",
          "text": [
            "Collecting comments for: fqEB4nSPuDk \n",
            "\n"
          ],
          "name": "stdout"
        },
        {
          "output_type": "stream",
          "text": [
            "\r 87%|████████▋ | 87/100 [33:23<00:42,  3.28s/it]"
          ],
          "name": "stderr"
        },
        {
          "output_type": "stream",
          "text": [
            "Collecting comments for: LWW2WPq0BJ0 \n",
            "\n"
          ],
          "name": "stdout"
        },
        {
          "output_type": "stream",
          "text": [
            "\r 88%|████████▊ | 88/100 [33:27<00:39,  3.27s/it]"
          ],
          "name": "stderr"
        },
        {
          "output_type": "stream",
          "text": [
            "Collecting comments for: L65xwj55TV0 \n",
            "\n",
            "Collecting comments for: mL0Dc_cl9Qk \n",
            "\n"
          ],
          "name": "stdout"
        },
        {
          "output_type": "stream",
          "text": [
            "\r 90%|█████████ | 90/100 [33:31<00:29,  2.92s/it]"
          ],
          "name": "stderr"
        },
        {
          "output_type": "stream",
          "text": [
            "Collecting comments for: YxedxinM_yA \n",
            "\n"
          ],
          "name": "stdout"
        },
        {
          "output_type": "stream",
          "text": [
            "\r 91%|█████████ | 91/100 [33:35<00:28,  3.18s/it]"
          ],
          "name": "stderr"
        },
        {
          "output_type": "stream",
          "text": [
            "Collecting comments for: UfZ6LCXyd6M \n",
            "\n"
          ],
          "name": "stdout"
        },
        {
          "output_type": "stream",
          "text": [
            "\r 92%|█████████▏| 92/100 [33:38<00:26,  3.31s/it]"
          ],
          "name": "stderr"
        },
        {
          "output_type": "stream",
          "text": [
            "Collecting comments for: eOxzBWpg1Ro \n",
            "\n"
          ],
          "name": "stdout"
        },
        {
          "output_type": "stream",
          "text": [
            "\r 93%|█████████▎| 93/100 [33:41<00:22,  3.23s/it]"
          ],
          "name": "stderr"
        },
        {
          "output_type": "stream",
          "text": [
            "Collecting comments for: Wix2D2818ME \n",
            "\n"
          ],
          "name": "stdout"
        },
        {
          "output_type": "stream",
          "text": [
            "\r 94%|█████████▍| 94/100 [33:46<00:22,  3.82s/it]"
          ],
          "name": "stderr"
        },
        {
          "output_type": "stream",
          "text": [
            "Collecting comments for: RLqRF64yQrg \n",
            "\n"
          ],
          "name": "stdout"
        },
        {
          "output_type": "stream",
          "text": [
            "\r 95%|█████████▌| 95/100 [33:49<00:17,  3.48s/it]"
          ],
          "name": "stderr"
        },
        {
          "output_type": "stream",
          "text": [
            "Collecting comments for: goFD47-Au6M \n",
            "\n"
          ],
          "name": "stdout"
        },
        {
          "output_type": "stream",
          "text": [
            " 97%|█████████▋| 97/100 [33:51<00:06,  2.12s/it]"
          ],
          "name": "stderr"
        },
        {
          "output_type": "stream",
          "text": [
            "Collecting comments for: aD9L1mlU79U \n",
            "\n",
            "Collecting comments for: iE4WbrW-UJI \n",
            "\n"
          ],
          "name": "stdout"
        },
        {
          "output_type": "stream",
          "text": [
            "\r 98%|█████████▊| 98/100 [33:54<00:04,  2.41s/it]"
          ],
          "name": "stderr"
        },
        {
          "output_type": "stream",
          "text": [
            "Collecting comments for: IpvbsECnJFw \n",
            "\n"
          ],
          "name": "stdout"
        },
        {
          "output_type": "stream",
          "text": [
            "100%|██████████| 100/100 [33:56<00:00, 20.37s/it]"
          ],
          "name": "stderr"
        },
        {
          "output_type": "stream",
          "text": [
            "Collecting comments for: q2QTTMM6NsA \n",
            "\n"
          ],
          "name": "stdout"
        },
        {
          "output_type": "stream",
          "text": [
            "\n"
          ],
          "name": "stderr"
        }
      ]
    },
    {
      "cell_type": "markdown",
      "metadata": {
        "id": "ozH0fYfSk1I6"
      },
      "source": [
        "# Without using the API"
      ]
    },
    {
      "cell_type": "markdown",
      "metadata": {
        "id": "Iyr0woZJkhIf"
      },
      "source": [
        "Another method is to use a virtual browser. We do not use an API, so there are no limits, but this method is significantly time consuming, especially on videos with multiple pages of comments.\n",
        "\n",
        "At the heart of this, this tool is automating the user experience of going through the comments page by page."
      ]
    },
    {
      "cell_type": "code",
      "metadata": {
        "id": "ynxoH9tPbYfg",
        "colab": {
          "base_uri": "https://localhost:8080/"
        },
        "outputId": "d574fcac-2ec0-40c9-d211-79b44b910995"
      },
      "source": [
        "!pip install https://github.com/egbertbouman/youtube-comment-downloader/archive/master.zip"
      ],
      "execution_count": null,
      "outputs": [
        {
          "output_type": "stream",
          "text": [
            "Collecting https://github.com/egbertbouman/youtube-comment-downloader/archive/master.zip\n",
            "\u001b[?25l  Downloading https://github.com/egbertbouman/youtube-comment-downloader/archive/master.zip\n",
            "\u001b[K     \\ 20kB 27.5MB/s\n",
            "\u001b[?25h  Installing build dependencies ... \u001b[?25l\u001b[?25hdone\n",
            "  Getting requirements to build wheel ... \u001b[?25l\u001b[?25hdone\n",
            "    Preparing wheel metadata ... \u001b[?25l\u001b[?25hdone\n",
            "Requirement already satisfied: requests in /usr/local/lib/python3.7/dist-packages (from youtube-comment-downloader==0.1) (2.23.0)\n",
            "Requirement already satisfied: urllib3!=1.25.0,!=1.25.1,<1.26,>=1.21.1 in /usr/local/lib/python3.7/dist-packages (from requests->youtube-comment-downloader==0.1) (1.24.3)\n",
            "Requirement already satisfied: certifi>=2017.4.17 in /usr/local/lib/python3.7/dist-packages (from requests->youtube-comment-downloader==0.1) (2021.5.30)\n",
            "Requirement already satisfied: idna<3,>=2.5 in /usr/local/lib/python3.7/dist-packages (from requests->youtube-comment-downloader==0.1) (2.10)\n",
            "Requirement already satisfied: chardet<4,>=3.0.2 in /usr/local/lib/python3.7/dist-packages (from requests->youtube-comment-downloader==0.1) (3.0.4)\n",
            "Building wheels for collected packages: youtube-comment-downloader\n",
            "  Building wheel for youtube-comment-downloader (PEP 517) ... \u001b[?25l\u001b[?25hdone\n",
            "  Created wheel for youtube-comment-downloader: filename=youtube_comment_downloader-0.1-cp37-none-any.whl size=6060 sha256=3e273d9e089aff56e4f81ce3269da6a2e5be02a395d1101bce86a19ab2bb0d1a\n",
            "  Stored in directory: /tmp/pip-ephem-wheel-cache-y95_4hbj/wheels/fb/11/19/8724c491708cdaa03cc3a6701e0a415df5fdda3d1d30a8e6bd\n",
            "Successfully built youtube-comment-downloader\n",
            "Installing collected packages: youtube-comment-downloader\n",
            "Successfully installed youtube-comment-downloader-0.1\n"
          ],
          "name": "stdout"
        }
      ]
    },
    {
      "cell_type": "code",
      "metadata": {
        "colab": {
          "base_uri": "https://localhost:8080/"
        },
        "id": "Vf0Ddp9l-9Pa",
        "outputId": "90b1d904-4298-4f23-f740-444718241d86"
      },
      "source": [
        "!youtube-comment-downloader --youtubeid M0ImB9fImtc --output M0ImB9fImtc.json"
      ],
      "execution_count": null,
      "outputs": [
        {
          "output_type": "stream",
          "text": [
            "Downloading Youtube comments for video: M0ImB9fImtc\n",
            "Downloaded 62513 comment(s)\n",
            "[1347.63 seconds] Done!\n"
          ],
          "name": "stdout"
        }
      ]
    },
    {
      "cell_type": "code",
      "metadata": {
        "id": "JHTQ-Hdy_Ror"
      },
      "source": [
        "comments_df = pd.read_json(\"/content/M0ImB9fImtc.json\",\n",
        "                           lines=True)"
      ],
      "execution_count": null,
      "outputs": []
    },
    {
      "cell_type": "code",
      "metadata": {
        "colab": {
          "base_uri": "https://localhost:8080/",
          "height": 530
        },
        "id": "sEMsZuYJEiV_",
        "outputId": "454e24b5-0ee3-4d48-d447-b5c285231231"
      },
      "source": [
        "comments_df.head()"
      ],
      "execution_count": null,
      "outputs": [
        {
          "output_type": "execute_result",
          "data": {
            "text/html": [
              "<div>\n",
              "<style scoped>\n",
              "    .dataframe tbody tr th:only-of-type {\n",
              "        vertical-align: middle;\n",
              "    }\n",
              "\n",
              "    .dataframe tbody tr th {\n",
              "        vertical-align: top;\n",
              "    }\n",
              "\n",
              "    .dataframe thead th {\n",
              "        text-align: right;\n",
              "    }\n",
              "</style>\n",
              "<table border=\"1\" class=\"dataframe\">\n",
              "  <thead>\n",
              "    <tr style=\"text-align: right;\">\n",
              "      <th></th>\n",
              "      <th>cid</th>\n",
              "      <th>text</th>\n",
              "      <th>time</th>\n",
              "      <th>author</th>\n",
              "      <th>channel</th>\n",
              "      <th>votes</th>\n",
              "      <th>photo</th>\n",
              "      <th>heart</th>\n",
              "    </tr>\n",
              "  </thead>\n",
              "  <tbody>\n",
              "    <tr>\n",
              "      <th>0</th>\n",
              "      <td>UgwE9BprFwpfp4YVFS94AaABAg</td>\n",
              "      <td>Only Ambani can by this phone🤣</td>\n",
              "      <td>2 days ago</td>\n",
              "      <td>addicted 99</td>\n",
              "      <td>UCRfsXjAGygAZAZT4ySy_NEA</td>\n",
              "      <td>0</td>\n",
              "      <td>https://yt3.ggpht.com/ytc/AAUvwnjc1aCKiWrMIlq3...</td>\n",
              "      <td>False</td>\n",
              "    </tr>\n",
              "    <tr>\n",
              "      <th>1</th>\n",
              "      <td>Ugxrv1nswf-ENgZ2A214AaABAg</td>\n",
              "      <td>Bro  please dunbed harry potter</td>\n",
              "      <td>2 days ago</td>\n",
              "      <td>Hazara Banu</td>\n",
              "      <td>UCUER0mNKIPv2GT8EbmvqZcA</td>\n",
              "      <td>0</td>\n",
              "      <td>https://yt3.ggpht.com/ytc/AAUvwnhWNbjmWzG42bUA...</td>\n",
              "      <td>False</td>\n",
              "    </tr>\n",
              "    <tr>\n",
              "      <th>2</th>\n",
              "      <td>UgzTPQqRde1IkWsynoh4AaABAg</td>\n",
              "      <td>tum itna gaali kyun dete ho</td>\n",
              "      <td>1 day ago</td>\n",
              "      <td>gamer boss riju</td>\n",
              "      <td>UCQQADjymYLw7Jwkwced_gfQ</td>\n",
              "      <td>0</td>\n",
              "      <td>https://yt3.ggpht.com/ytc/AAUvwngFCSgH-mRgMkYG...</td>\n",
              "      <td>False</td>\n",
              "    </tr>\n",
              "    <tr>\n",
              "      <th>3</th>\n",
              "      <td>UgwSS7QKkPelR2zOkmd4AaABAg</td>\n",
              "      <td>Lola</td>\n",
              "      <td>1 day ago</td>\n",
              "      <td>Solat Sohail</td>\n",
              "      <td>UCQhw46pI7mOAwxCdJxkoUCw</td>\n",
              "      <td>0</td>\n",
              "      <td>https://yt3.ggpht.com/ytc/AAUvwnhneUykd6juj-p9...</td>\n",
              "      <td>False</td>\n",
              "    </tr>\n",
              "    <tr>\n",
              "      <th>4</th>\n",
              "      <td>UgyeizcLcdl71MxCZXt4AaABAg</td>\n",
              "      <td>Muje ye wala phone chaiye</td>\n",
              "      <td>1 day ago</td>\n",
              "      <td>RAGON GAMING</td>\n",
              "      <td>UC_vGDLdFZjuWUla6RVug9dA</td>\n",
              "      <td>1</td>\n",
              "      <td>https://yt3.ggpht.com/2HDp5DMCTuwUn02Kk2IYoAhc...</td>\n",
              "      <td>False</td>\n",
              "    </tr>\n",
              "  </tbody>\n",
              "</table>\n",
              "</div>"
            ],
            "text/plain": [
              "                          cid  ...  heart\n",
              "0  UgwE9BprFwpfp4YVFS94AaABAg  ...  False\n",
              "1  Ugxrv1nswf-ENgZ2A214AaABAg  ...  False\n",
              "2  UgzTPQqRde1IkWsynoh4AaABAg  ...  False\n",
              "3  UgwSS7QKkPelR2zOkmd4AaABAg  ...  False\n",
              "4  UgyeizcLcdl71MxCZXt4AaABAg  ...  False\n",
              "\n",
              "[5 rows x 8 columns]"
            ]
          },
          "metadata": {
            "tags": []
          },
          "execution_count": 15
        }
      ]
    }
  ]
}